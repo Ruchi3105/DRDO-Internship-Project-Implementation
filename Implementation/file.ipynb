{
 "cells": [
  {
   "cell_type": "markdown",
   "metadata": {},
   "source": [
    "**Load and Explore the Dataset**"
   ]
  },
  {
   "cell_type": "code",
   "execution_count": 279,
   "metadata": {},
   "outputs": [
    {
     "data": {
      "text/html": [
       "<div>\n",
       "<style scoped>\n",
       "    .dataframe tbody tr th:only-of-type {\n",
       "        vertical-align: middle;\n",
       "    }\n",
       "\n",
       "    .dataframe tbody tr th {\n",
       "        vertical-align: top;\n",
       "    }\n",
       "\n",
       "    .dataframe thead th {\n",
       "        text-align: right;\n",
       "    }\n",
       "</style>\n",
       "<table border=\"1\" class=\"dataframe\">\n",
       "  <thead>\n",
       "    <tr style=\"text-align: right;\">\n",
       "      <th></th>\n",
       "      <th>age</th>\n",
       "      <th>job</th>\n",
       "      <th>marital</th>\n",
       "      <th>education</th>\n",
       "      <th>default</th>\n",
       "      <th>balance</th>\n",
       "      <th>housing</th>\n",
       "      <th>loan</th>\n",
       "      <th>contact</th>\n",
       "      <th>day</th>\n",
       "      <th>month</th>\n",
       "      <th>duration</th>\n",
       "      <th>campaign</th>\n",
       "      <th>pdays</th>\n",
       "      <th>previous</th>\n",
       "      <th>poutcome</th>\n",
       "      <th>deposit</th>\n",
       "    </tr>\n",
       "  </thead>\n",
       "  <tbody>\n",
       "    <tr>\n",
       "      <th>0</th>\n",
       "      <td>59</td>\n",
       "      <td>admin.</td>\n",
       "      <td>married</td>\n",
       "      <td>secondary</td>\n",
       "      <td>no</td>\n",
       "      <td>2343</td>\n",
       "      <td>yes</td>\n",
       "      <td>no</td>\n",
       "      <td>unknown</td>\n",
       "      <td>5</td>\n",
       "      <td>may</td>\n",
       "      <td>1042</td>\n",
       "      <td>1</td>\n",
       "      <td>-1</td>\n",
       "      <td>0</td>\n",
       "      <td>unknown</td>\n",
       "      <td>yes</td>\n",
       "    </tr>\n",
       "    <tr>\n",
       "      <th>1</th>\n",
       "      <td>56</td>\n",
       "      <td>admin.</td>\n",
       "      <td>married</td>\n",
       "      <td>secondary</td>\n",
       "      <td>no</td>\n",
       "      <td>45</td>\n",
       "      <td>no</td>\n",
       "      <td>no</td>\n",
       "      <td>unknown</td>\n",
       "      <td>5</td>\n",
       "      <td>may</td>\n",
       "      <td>1467</td>\n",
       "      <td>1</td>\n",
       "      <td>-1</td>\n",
       "      <td>0</td>\n",
       "      <td>unknown</td>\n",
       "      <td>yes</td>\n",
       "    </tr>\n",
       "    <tr>\n",
       "      <th>2</th>\n",
       "      <td>41</td>\n",
       "      <td>technician</td>\n",
       "      <td>married</td>\n",
       "      <td>secondary</td>\n",
       "      <td>no</td>\n",
       "      <td>1270</td>\n",
       "      <td>yes</td>\n",
       "      <td>no</td>\n",
       "      <td>unknown</td>\n",
       "      <td>5</td>\n",
       "      <td>may</td>\n",
       "      <td>1389</td>\n",
       "      <td>1</td>\n",
       "      <td>-1</td>\n",
       "      <td>0</td>\n",
       "      <td>unknown</td>\n",
       "      <td>yes</td>\n",
       "    </tr>\n",
       "    <tr>\n",
       "      <th>3</th>\n",
       "      <td>55</td>\n",
       "      <td>services</td>\n",
       "      <td>married</td>\n",
       "      <td>secondary</td>\n",
       "      <td>no</td>\n",
       "      <td>2476</td>\n",
       "      <td>yes</td>\n",
       "      <td>no</td>\n",
       "      <td>unknown</td>\n",
       "      <td>5</td>\n",
       "      <td>may</td>\n",
       "      <td>579</td>\n",
       "      <td>1</td>\n",
       "      <td>-1</td>\n",
       "      <td>0</td>\n",
       "      <td>unknown</td>\n",
       "      <td>yes</td>\n",
       "    </tr>\n",
       "    <tr>\n",
       "      <th>4</th>\n",
       "      <td>54</td>\n",
       "      <td>admin.</td>\n",
       "      <td>married</td>\n",
       "      <td>tertiary</td>\n",
       "      <td>no</td>\n",
       "      <td>184</td>\n",
       "      <td>no</td>\n",
       "      <td>no</td>\n",
       "      <td>unknown</td>\n",
       "      <td>5</td>\n",
       "      <td>may</td>\n",
       "      <td>673</td>\n",
       "      <td>2</td>\n",
       "      <td>-1</td>\n",
       "      <td>0</td>\n",
       "      <td>unknown</td>\n",
       "      <td>yes</td>\n",
       "    </tr>\n",
       "  </tbody>\n",
       "</table>\n",
       "</div>"
      ],
      "text/plain": [
       "   age         job  marital  education default  balance housing loan  contact  \\\n",
       "0   59      admin.  married  secondary      no     2343     yes   no  unknown   \n",
       "1   56      admin.  married  secondary      no       45      no   no  unknown   \n",
       "2   41  technician  married  secondary      no     1270     yes   no  unknown   \n",
       "3   55    services  married  secondary      no     2476     yes   no  unknown   \n",
       "4   54      admin.  married   tertiary      no      184      no   no  unknown   \n",
       "\n",
       "   day month  duration  campaign  pdays  previous poutcome deposit  \n",
       "0    5   may      1042         1     -1         0  unknown     yes  \n",
       "1    5   may      1467         1     -1         0  unknown     yes  \n",
       "2    5   may      1389         1     -1         0  unknown     yes  \n",
       "3    5   may       579         1     -1         0  unknown     yes  \n",
       "4    5   may       673         2     -1         0  unknown     yes  "
      ]
     },
     "execution_count": 279,
     "metadata": {},
     "output_type": "execute_result"
    }
   ],
   "source": [
    "import pandas as pd\n",
    "\n",
    "# Load dataset\n",
    "df = pd.read_csv('bank.csv',sep=',')\n",
    "df.head()"
   ]
  },
  {
   "cell_type": "code",
   "execution_count": 280,
   "metadata": {},
   "outputs": [
    {
     "data": {
      "text/plain": [
       "Index(['age', 'job', 'marital', 'education', 'default', 'balance', 'housing',\n",
       "       'loan', 'contact', 'day', 'month', 'duration', 'campaign', 'pdays',\n",
       "       'previous', 'poutcome', 'deposit'],\n",
       "      dtype='object')"
      ]
     },
     "execution_count": 280,
     "metadata": {},
     "output_type": "execute_result"
    }
   ],
   "source": [
    "df.columns"
   ]
  },
  {
   "cell_type": "code",
   "execution_count": 281,
   "metadata": {},
   "outputs": [
    {
     "name": "stdout",
     "output_type": "stream",
     "text": [
      "<class 'pandas.core.frame.DataFrame'>\n",
      "RangeIndex: 11162 entries, 0 to 11161\n",
      "Data columns (total 17 columns):\n",
      " #   Column     Non-Null Count  Dtype \n",
      "---  ------     --------------  ----- \n",
      " 0   age        11162 non-null  int64 \n",
      " 1   job        11162 non-null  object\n",
      " 2   marital    11162 non-null  object\n",
      " 3   education  11162 non-null  object\n",
      " 4   default    11162 non-null  object\n",
      " 5   balance    11162 non-null  int64 \n",
      " 6   housing    11162 non-null  object\n",
      " 7   loan       11162 non-null  object\n",
      " 8   contact    11162 non-null  object\n",
      " 9   day        11162 non-null  int64 \n",
      " 10  month      11162 non-null  object\n",
      " 11  duration   11162 non-null  int64 \n",
      " 12  campaign   11162 non-null  int64 \n",
      " 13  pdays      11162 non-null  int64 \n",
      " 14  previous   11162 non-null  int64 \n",
      " 15  poutcome   11162 non-null  object\n",
      " 16  deposit    11162 non-null  object\n",
      "dtypes: int64(7), object(10)\n",
      "memory usage: 1.4+ MB\n"
     ]
    }
   ],
   "source": [
    "df.info()"
   ]
  },
  {
   "cell_type": "code",
   "execution_count": 282,
   "metadata": {},
   "outputs": [],
   "source": [
    "import matplotlib.pyplot as plt\n",
    "import seaborn as sns\n",
    "from matplotlib.gridspec import GridSpec\n",
    "cols= ['#00876c','#85b96f','#f7e382','#f19452','#d43d51']"
   ]
  },
  {
   "cell_type": "markdown",
   "metadata": {},
   "source": [
    "One hot encoding"
   ]
  },
  {
   "cell_type": "code",
   "execution_count": 283,
   "metadata": {},
   "outputs": [],
   "source": [
    "df2=pd.get_dummies(df,drop_first=True)"
   ]
  },
  {
   "cell_type": "markdown",
   "metadata": {},
   "source": [
    "Train Test Split"
   ]
  },
  {
   "cell_type": "code",
   "execution_count": 284,
   "metadata": {},
   "outputs": [],
   "source": [
    "from sklearn.model_selection import train_test_split\n",
    "X_train, X_test, y_train, y_test = train_test_split(X,y, test_size=0.3, random_state=42)"
   ]
  },
  {
   "cell_type": "markdown",
   "metadata": {},
   "source": [
    "standardise the variables"
   ]
  },
  {
   "cell_type": "code",
   "execution_count": 285,
   "metadata": {},
   "outputs": [],
   "source": [
    "from sklearn.preprocessing import StandardScaler\n",
    "scaler = StandardScaler()\n",
    "\n",
    "X_train=scaler.fit_transform(X_train)\n",
    "X_test = scaler.transform(X_test)"
   ]
  },
  {
   "cell_type": "markdown",
   "metadata": {},
   "source": [
    "Model Creation"
   ]
  },
  {
   "cell_type": "code",
   "execution_count": 262,
   "metadata": {},
   "outputs": [
    {
     "name": "stdout",
     "output_type": "stream",
     "text": [
      "Requirement already satisfied: yellowbrick in c:\\users\\devin\\appdata\\local\\programs\\python\\python312\\lib\\site-packages (1.5)\n",
      "Requirement already satisfied: matplotlib!=3.0.0,>=2.0.2 in c:\\users\\devin\\appdata\\local\\programs\\python\\python312\\lib\\site-packages (from yellowbrick) (3.9.0)\n",
      "Requirement already satisfied: scipy>=1.0.0 in c:\\users\\devin\\appdata\\local\\programs\\python\\python312\\lib\\site-packages (from yellowbrick) (1.13.1)\n",
      "Requirement already satisfied: scikit-learn>=1.0.0 in c:\\users\\devin\\appdata\\local\\programs\\python\\python312\\lib\\site-packages (from yellowbrick) (1.5.0)\n",
      "Requirement already satisfied: numpy>=1.16.0 in c:\\users\\devin\\appdata\\local\\programs\\python\\python312\\lib\\site-packages (from yellowbrick) (1.26.4)\n",
      "Requirement already satisfied: cycler>=0.10.0 in c:\\users\\devin\\appdata\\local\\programs\\python\\python312\\lib\\site-packages (from yellowbrick) (0.12.1)\n",
      "Requirement already satisfied: contourpy>=1.0.1 in c:\\users\\devin\\appdata\\local\\programs\\python\\python312\\lib\\site-packages (from matplotlib!=3.0.0,>=2.0.2->yellowbrick) (1.2.1)\n",
      "Requirement already satisfied: fonttools>=4.22.0 in c:\\users\\devin\\appdata\\local\\programs\\python\\python312\\lib\\site-packages (from matplotlib!=3.0.0,>=2.0.2->yellowbrick) (4.53.0)\n",
      "Requirement already satisfied: kiwisolver>=1.3.1 in c:\\users\\devin\\appdata\\local\\programs\\python\\python312\\lib\\site-packages (from matplotlib!=3.0.0,>=2.0.2->yellowbrick) (1.4.5)\n",
      "Requirement already satisfied: packaging>=20.0 in c:\\users\\devin\\appdata\\local\\programs\\python\\python312\\lib\\site-packages (from matplotlib!=3.0.0,>=2.0.2->yellowbrick) (24.1)\n",
      "Requirement already satisfied: pillow>=8 in c:\\users\\devin\\appdata\\local\\programs\\python\\python312\\lib\\site-packages (from matplotlib!=3.0.0,>=2.0.2->yellowbrick) (10.3.0)\n",
      "Requirement already satisfied: pyparsing>=2.3.1 in c:\\users\\devin\\appdata\\local\\programs\\python\\python312\\lib\\site-packages (from matplotlib!=3.0.0,>=2.0.2->yellowbrick) (3.1.2)\n",
      "Requirement already satisfied: python-dateutil>=2.7 in c:\\users\\devin\\appdata\\local\\programs\\python\\python312\\lib\\site-packages (from matplotlib!=3.0.0,>=2.0.2->yellowbrick) (2.9.0.post0)\n",
      "Requirement already satisfied: joblib>=1.2.0 in c:\\users\\devin\\appdata\\local\\programs\\python\\python312\\lib\\site-packages (from scikit-learn>=1.0.0->yellowbrick) (1.4.2)\n",
      "Requirement already satisfied: threadpoolctl>=3.1.0 in c:\\users\\devin\\appdata\\local\\programs\\python\\python312\\lib\\site-packages (from scikit-learn>=1.0.0->yellowbrick) (3.5.0)\n",
      "Requirement already satisfied: six>=1.5 in c:\\users\\devin\\appdata\\local\\programs\\python\\python312\\lib\\site-packages (from python-dateutil>=2.7->matplotlib!=3.0.0,>=2.0.2->yellowbrick) (1.16.0)\n",
      "Note: you may need to restart the kernel to use updated packages.\n"
     ]
    },
    {
     "name": "stderr",
     "output_type": "stream",
     "text": [
      "\n",
      "[notice] A new release of pip is available: 24.0 -> 24.1.2\n",
      "[notice] To update, run: python.exe -m pip install --upgrade pip\n"
     ]
    }
   ],
   "source": [
    "%pip install yellowbrick"
   ]
  },
  {
   "cell_type": "code",
   "execution_count": 286,
   "metadata": {},
   "outputs": [
    {
     "name": "stdout",
     "output_type": "stream",
     "text": [
      "0.820244849208719\n",
      "              precision    recall  f1-score   support\n",
      "\n",
      "           0       0.81      0.85      0.83      1742\n",
      "           1       0.83      0.79      0.81      1607\n",
      "\n",
      "    accuracy                           0.82      3349\n",
      "   macro avg       0.82      0.82      0.82      3349\n",
      "weighted avg       0.82      0.82      0.82      3349\n",
      "\n"
     ]
    },
    {
     "data": {
      "text/plain": [
       "Text(0.05, -0.05, 'Observation: Logistic Regression performed well with Accuracy score of 83%')"
      ]
     },
     "execution_count": 286,
     "metadata": {},
     "output_type": "execute_result"
    }
   ],
   "source": [
    "from sklearn.linear_model import LogisticRegression\n",
    "model = LogisticRegression()\n",
    "model.fit(X_train, y_train)\n",
    "model.score(X_test ,y_test)\n",
    "pred=model.predict(X_test)\n",
    "from sklearn.metrics import accuracy_score, confusion_matrix, classification_report\n",
    "print(accuracy_score(y_test,pred))\n",
    "print(classification_report(y_test,pred))\n",
    "\n",
    "## Yellow brick reports\n",
    "fig = plt.figure(figsize=(20,8))\n",
    "gs=GridSpec(nrows=1, ncols=2)\n",
    "plt.suptitle(\"Classification Reports\", family='Serif', size=15, ha='center', weight='bold')\n",
    "plt.figtext(0.5,0.93,\"Classification report based on the Logisitic regression model\", family='Serif', size=12, ha='center')\n",
    "ax1=plt.subplot(gs[0,0])\n",
    "ax1.set(title='ROC Curve')\n",
    "visual = ROCAUC(model, classes=[0,1])\n",
    "visual.fit(X_train,y_train)\n",
    "ax1=visual.score(X_test,y_test)\n",
    "\n",
    "ax2=plt.subplot(gs[0,1])\n",
    "ax2.set(title='Classification report')\n",
    "ax2=ClassificationReport(model,classes=[0,1], support=True).fit(X_train,y_train).score(X_test,y_test)\n",
    "\n",
    "plt.figtext(0.05,-0.05,\"Observation: Logistic Regression performed well with Accuracy score of 83%\",\n",
    "           family='Serif', size=14, ha='left', weight='bold')"
   ]
  },
  {
   "cell_type": "markdown",
   "metadata": {},
   "source": [
    "***Data cleaning and preprocessing***"
   ]
  },
  {
   "cell_type": "markdown",
   "metadata": {},
   "source": [
    "***Exploratory Data Analysis (EDA)***"
   ]
  },
  {
   "cell_type": "code",
   "execution_count": 287,
   "metadata": {},
   "outputs": [
    {
     "name": "stderr",
     "output_type": "stream",
     "text": [
      "C:\\Users\\devin\\AppData\\Local\\Temp\\ipykernel_2284\\350497253.py:10: UserWarning: FigureCanvasAgg is non-interactive, and thus cannot be shown\n",
      "  plt.show()\n"
     ]
    }
   ],
   "source": [
    "import matplotlib.pyplot as plt\n",
    "import seaborn as sns\n",
    "\n",
    "# Plot age distribution\n",
    "plt.figure(figsize=(10, 6))\n",
    "sns.histplot(df['age'], bins=30, kde=True)\n",
    "plt.title('Age Distribution')\n",
    "plt.xlabel('Age')\n",
    "plt.ylabel('Frequency')\n",
    "plt.show()\n"
   ]
  },
  {
   "cell_type": "code",
   "execution_count": 288,
   "metadata": {},
   "outputs": [
    {
     "name": "stderr",
     "output_type": "stream",
     "text": [
      "C:\\Users\\devin\\AppData\\Local\\Temp\\ipykernel_2284\\3952703882.py:7: UserWarning: FigureCanvasAgg is non-interactive, and thus cannot be shown\n",
      "  plt.show()\n"
     ]
    }
   ],
   "source": [
    "# Plot job distribution\n",
    "sns.countplot(data=df, x='job')\n",
    "plt.title('Job Distribution')\n",
    "plt.xlabel('Job')\n",
    "plt.ylabel('Count')\n",
    "plt.xticks(rotation=45)\n",
    "plt.show()"
   ]
  },
  {
   "cell_type": "markdown",
   "metadata": {},
   "source": [
    "**Fairness Assessment on dataset**"
   ]
  },
  {
   "cell_type": "code",
   "execution_count": 289,
   "metadata": {},
   "outputs": [
    {
     "name": "stdout",
     "output_type": "stream",
     "text": [
      "Note: you may need to restart the kernel to use updated packages.\n"
     ]
    },
    {
     "name": "stderr",
     "output_type": "stream",
     "text": [
      "ERROR: Invalid requirement: \"'aif360[all]'\"\n",
      "\n",
      "[notice] A new release of pip is available: 24.0 -> 24.1.2\n",
      "[notice] To update, run: python.exe -m pip install --upgrade pip\n"
     ]
    }
   ],
   "source": [
    "%pip install 'aif360[all]'"
   ]
  },
  {
   "cell_type": "markdown",
   "metadata": {},
   "source": [
    "***Load and Preprocess the Dataset***"
   ]
  },
  {
   "cell_type": "code",
   "execution_count": 290,
   "metadata": {},
   "outputs": [
    {
     "name": "stdout",
     "output_type": "stream",
     "text": [
      "   age  job  marital  education  default  balance  housing  loan  contact  \\\n",
      "0   59    0        1          1        0     2343        1     0        2   \n",
      "1   56    0        1          1        0       45        0     0        2   \n",
      "2   41    9        1          1        0     1270        1     0        2   \n",
      "3   55    7        1          1        0     2476        1     0        2   \n",
      "4   54    0        1          2        0      184        0     0        2   \n",
      "\n",
      "   day  month  duration  campaign  pdays  previous  poutcome  deposit  \n",
      "0    5      8      1042         1     -1         0         3        1  \n",
      "1    5      8      1467         1     -1         0         3        1  \n",
      "2    5      8      1389         1     -1         0         3        1  \n",
      "3    5      8       579         1     -1         0         3        1  \n",
      "4    5      8       673         2     -1         0         3        1  \n"
     ]
    }
   ],
   "source": [
    "import pandas as pd\n",
    "from sklearn.preprocessing import LabelEncoder\n",
    "\n",
    "# Load the dataset\n",
    "data = pd.read_csv('bank.csv')\n",
    "\n",
    "# Convert categorical features to numeric\n",
    "categorical_columns = ['job', 'marital', 'education', 'default', 'housing', 'loan', 'contact', 'month', 'poutcome']\n",
    "for column in categorical_columns:\n",
    "    data[column] = LabelEncoder().fit_transform(data[column])\n",
    "\n",
    "# Convert 'deposit' to numeric\n",
    "data['deposit'] = data['deposit'].map({'yes': 1, 'no': 0})\n",
    "\n",
    "# Check the preprocessing\n",
    "print(data.head())\n"
   ]
  },
  {
   "cell_type": "code",
   "execution_count": 291,
   "metadata": {},
   "outputs": [
    {
     "name": "stdout",
     "output_type": "stream",
     "text": [
      "Disparate Impact: 1.1089510318720235\n",
      "Statistical parity difference: 0.04726186314083214\n"
     ]
    }
   ],
   "source": [
    "from aif360.datasets import BinaryLabelDataset\n",
    "from aif360.metrics import BinaryLabelDatasetMetric\n",
    "\n",
    "# Define the privileged and unprivileged groups\n",
    "privileged_groups = [{'marital': 1}]  # Assuming 'married' is represented by 1\n",
    "unprivileged_groups = [{'marital': 0}]  # Assuming 'not married' is represented by 0 (single and divorced)\n",
    "\n",
    "# Create a BinaryLabelDataset\n",
    "dataset = BinaryLabelDataset(\n",
    "    favorable_label=1,\n",
    "    unfavorable_label=0,\n",
    "    df=data,\n",
    "    label_names=['deposit'],\n",
    "    protected_attribute_names=['marital'],\n",
    "    unprivileged_protected_attributes=[0]  # 'single' and 'divorced' are represented by 0\n",
    ")\n",
    "\n",
    "# Calculate fairness metrics\n",
    "metric = BinaryLabelDatasetMetric(dataset, privileged_groups=privileged_groups, unprivileged_groups=unprivileged_groups)\n",
    "print(f\"Disparate Impact: {metric.disparate_impact()}\")\n",
    "print(f\"Statistical parity difference: {metric.statistical_parity_difference()}\")\n"
   ]
  },
  {
   "cell_type": "markdown",
   "metadata": {},
   "source": [
    "Disparate Impact > 1: The privileged group is receiving the favorable outcome more frequently than the unprivileged group, suggesting potential bias favoring the privileged group.\n",
    "\n",
    "\n",
    "Statistical Parity Difference > 0: The privileged group has a higher probability of receiving the favorable outcome compared to the unprivileged group. This suggests a bias favoring the privileged group."
   ]
  },
  {
   "cell_type": "markdown",
   "metadata": {},
   "source": [
    "This output indicates biasness against unmarried demographic group"
   ]
  },
  {
   "cell_type": "code",
   "execution_count": 292,
   "metadata": {},
   "outputs": [],
   "source": [
    "df2=pd.get_dummies(data,drop_first=True)"
   ]
  },
  {
   "cell_type": "code",
   "execution_count": 293,
   "metadata": {},
   "outputs": [],
   "source": [
    "from sklearn.model_selection import train_test_split\n",
    "X_train, X_test, y_train, y_test = train_test_split(X,y, test_size=0.3, random_state=42)"
   ]
  },
  {
   "cell_type": "code",
   "execution_count": 294,
   "metadata": {},
   "outputs": [],
   "source": [
    "from sklearn.preprocessing import StandardScaler\n",
    "scaler = StandardScaler()\n",
    "\n",
    "X_train=scaler.fit_transform(X_train)\n",
    "X_test = scaler.transform(X_test)"
   ]
  },
  {
   "cell_type": "code",
   "execution_count": 305,
   "metadata": {},
   "outputs": [
    {
     "name": "stdout",
     "output_type": "stream",
     "text": [
      "0.820244849208719\n",
      "              precision    recall  f1-score   support\n",
      "\n",
      "           0       0.81      0.85      0.83      1742\n",
      "           1       0.83      0.79      0.81      1607\n",
      "\n",
      "    accuracy                           0.82      3349\n",
      "   macro avg       0.82      0.82      0.82      3349\n",
      "weighted avg       0.82      0.82      0.82      3349\n",
      "\n"
     ]
    }
   ],
   "source": [
    "from sklearn.linear_model import LogisticRegression\n",
    "model = LogisticRegression()\n",
    "model.fit(X_train, y_train)\n",
    "model.score(X_test ,y_test)\n",
    "pred=model.predict(X_test)\n",
    "from sklearn.metrics import accuracy_score, confusion_matrix, classification_report\n",
    "print(accuracy_score(y_test,pred))\n",
    "print(classification_report(y_test,pred))"
   ]
  },
  {
   "cell_type": "markdown",
   "metadata": {},
   "source": [
    "Bias Mitigation and model re-evaluation"
   ]
  },
  {
   "cell_type": "code",
   "execution_count": 296,
   "metadata": {},
   "outputs": [
    {
     "name": "stdout",
     "output_type": "stream",
     "text": [
      "Requirement already satisfied: BlackBoxAuditing in c:\\users\\devin\\appdata\\local\\programs\\python\\python312\\lib\\site-packages (0.1.54)\n",
      "Requirement already satisfied: networkx in c:\\users\\devin\\appdata\\local\\programs\\python\\python312\\lib\\site-packages (from BlackBoxAuditing) (3.3)\n",
      "Requirement already satisfied: matplotlib in c:\\users\\devin\\appdata\\local\\programs\\python\\python312\\lib\\site-packages (from BlackBoxAuditing) (3.9.0)\n",
      "Requirement already satisfied: pandas in c:\\users\\devin\\appdata\\local\\programs\\python\\python312\\lib\\site-packages (from BlackBoxAuditing) (2.2.2)\n",
      "Requirement already satisfied: numpy in c:\\users\\devin\\appdata\\local\\programs\\python\\python312\\lib\\site-packages (from BlackBoxAuditing) (1.26.4)\n",
      "Requirement already satisfied: contourpy>=1.0.1 in c:\\users\\devin\\appdata\\local\\programs\\python\\python312\\lib\\site-packages (from matplotlib->BlackBoxAuditing) (1.2.1)\n",
      "Requirement already satisfied: cycler>=0.10 in c:\\users\\devin\\appdata\\local\\programs\\python\\python312\\lib\\site-packages (from matplotlib->BlackBoxAuditing) (0.12.1)\n",
      "Requirement already satisfied: fonttools>=4.22.0 in c:\\users\\devin\\appdata\\local\\programs\\python\\python312\\lib\\site-packages (from matplotlib->BlackBoxAuditing) (4.53.0)\n",
      "Requirement already satisfied: kiwisolver>=1.3.1 in c:\\users\\devin\\appdata\\local\\programs\\python\\python312\\lib\\site-packages (from matplotlib->BlackBoxAuditing) (1.4.5)\n",
      "Requirement already satisfied: packaging>=20.0 in c:\\users\\devin\\appdata\\local\\programs\\python\\python312\\lib\\site-packages (from matplotlib->BlackBoxAuditing) (24.1)\n",
      "Requirement already satisfied: pillow>=8 in c:\\users\\devin\\appdata\\local\\programs\\python\\python312\\lib\\site-packages (from matplotlib->BlackBoxAuditing) (10.3.0)\n",
      "Requirement already satisfied: pyparsing>=2.3.1 in c:\\users\\devin\\appdata\\local\\programs\\python\\python312\\lib\\site-packages (from matplotlib->BlackBoxAuditing) (3.1.2)\n",
      "Requirement already satisfied: python-dateutil>=2.7 in c:\\users\\devin\\appdata\\local\\programs\\python\\python312\\lib\\site-packages (from matplotlib->BlackBoxAuditing) (2.9.0.post0)\n",
      "Requirement already satisfied: pytz>=2020.1 in c:\\users\\devin\\appdata\\local\\programs\\python\\python312\\lib\\site-packages (from pandas->BlackBoxAuditing) (2024.1)\n",
      "Requirement already satisfied: tzdata>=2022.7 in c:\\users\\devin\\appdata\\local\\programs\\python\\python312\\lib\\site-packages (from pandas->BlackBoxAuditing) (2024.1)\n",
      "Requirement already satisfied: six>=1.5 in c:\\users\\devin\\appdata\\local\\programs\\python\\python312\\lib\\site-packages (from python-dateutil>=2.7->matplotlib->BlackBoxAuditing) (1.16.0)\n",
      "Note: you may need to restart the kernel to use updated packages.\n"
     ]
    },
    {
     "name": "stderr",
     "output_type": "stream",
     "text": [
      "\n",
      "[notice] A new release of pip is available: 24.0 -> 24.1.2\n",
      "[notice] To update, run: python.exe -m pip install --upgrade pip\n"
     ]
    }
   ],
   "source": [
    "%pip install BlackBoxAuditing\n"
   ]
  },
  {
   "cell_type": "code",
   "execution_count": 297,
   "metadata": {},
   "outputs": [],
   "source": [
    "import BlackBoxAuditing"
   ]
  },
  {
   "cell_type": "markdown",
   "metadata": {},
   "source": [
    "Bias mitigation using Disparate Impact Remover"
   ]
  },
  {
   "cell_type": "code",
   "execution_count": 298,
   "metadata": {},
   "outputs": [],
   "source": [
    "from aif360.algorithms.preprocessing import DisparateImpactRemover\n",
    "\n",
    "dir_remover = DisparateImpactRemover(repair_level=1.0, sensitive_attribute='marital')\n",
    "transformed_dataset = dir_remover.fit_transform(dataset)"
   ]
  },
  {
   "cell_type": "code",
   "execution_count": 306,
   "metadata": {},
   "outputs": [
    {
     "name": "stdout",
     "output_type": "stream",
     "text": [
      "Accuracy (Transformed Data): 0.7868020304568528\n",
      "Classification Report (Transformed Data):\n",
      "              precision    recall  f1-score   support\n",
      "\n",
      "         0.0       0.78      0.83      0.80      1742\n",
      "         1.0       0.80      0.74      0.77      1607\n",
      "\n",
      "    accuracy                           0.79      3349\n",
      "   macro avg       0.79      0.79      0.79      3349\n",
      "weighted avg       0.79      0.79      0.79      3349\n",
      "\n"
     ]
    }
   ],
   "source": [
    "transformed_df, _ = transformed_dataset.convert_to_dataframe()\n",
    "\n",
    "# Prepare features and target variable\n",
    "X_transformed = transformed_df.drop(columns=['deposit'])\n",
    "y_transformed = transformed_df['deposit']\n",
    "\n",
    "# Train/test split\n",
    "X_train_transformed, X_test_transformed, y_train_transformed, y_test_transformed = train_test_split(\n",
    "    X_transformed, y_transformed, test_size=0.3, random_state=42\n",
    ")\n",
    "\n",
    "# Define the pipeline with preprocessing and model\n",
    "pipeline = Pipeline([\n",
    "    ('scaler', StandardScaler()),  # Optional: standardize features\n",
    "    ('classifier', LogisticRegression())\n",
    "])\n",
    "\n",
    "# Train the model\n",
    "pipeline.fit(X_train_transformed, y_train_transformed)\n",
    "\n",
    "# Predict on test data\n",
    "pred_transformed = pipeline.predict(X_test_transformed)\n",
    "\n",
    "# Evaluate the model\n",
    "print(\"Accuracy (Transformed Data):\", accuracy_score(y_test_transformed, pred_transformed))\n",
    "print(\"Classification Report (Transformed Data):\")\n",
    "print(classification_report(y_test_transformed, pred_transformed))"
   ]
  },
  {
   "cell_type": "markdown",
   "metadata": {},
   "source": [
    "Bias mitigation using Reweighing"
   ]
  },
  {
   "cell_type": "code",
   "execution_count": 303,
   "metadata": {},
   "outputs": [],
   "source": [
    "from aif360.algorithms.preprocessing import Reweighing\n",
    "\n",
    "rw=Reweighing(unprivileged_groups, privileged_groups)\n",
    "\n",
    "rw.fit(dataset)\n",
    "\n",
    "reweighted_dataset = rw.transform(dataset)"
   ]
  },
  {
   "cell_type": "code",
   "execution_count": 304,
   "metadata": {},
   "outputs": [
    {
     "name": "stdout",
     "output_type": "stream",
     "text": [
      "Accuracy (Reweighted Data): 0.7882950134368468\n",
      "Classification Report (Reweighted Data):\n",
      "              precision    recall  f1-score   support\n",
      "\n",
      "         0.0       0.78      0.82      0.80      1742\n",
      "         1.0       0.80      0.75      0.77      1607\n",
      "\n",
      "    accuracy                           0.79      3349\n",
      "   macro avg       0.79      0.79      0.79      3349\n",
      "weighted avg       0.79      0.79      0.79      3349\n",
      "\n"
     ]
    }
   ],
   "source": [
    "reweighted_df, _ = reweighted_dataset.convert_to_dataframe()\n",
    "\n",
    "# Prepare features and target variable\n",
    "X_reweighted = reweighted_df.drop(columns=['deposit'])\n",
    "y_reweighted = reweighted_df['deposit']\n",
    "\n",
    "# Train/test split\n",
    "X_train_reweighted, X_test_reweighted, y_train_reweighted, y_test_reweighted = train_test_split(\n",
    "    X_reweighted, y_reweighted, test_size=0.3, random_state=42\n",
    ")\n",
    "\n",
    "# Define the pipeline with preprocessing and model\n",
    "pipeline = Pipeline([\n",
    "    ('scaler', StandardScaler()),  # Optional: standardize features\n",
    "    ('classifier', LogisticRegression())\n",
    "])\n",
    "\n",
    "# Train the model\n",
    "pipeline.fit(X_train_reweighted, y_train_reweighted)\n",
    "\n",
    "# Predict on test data\n",
    "pred_reweighted = pipeline.predict(X_test_reweighted)\n",
    "\n",
    "# Evaluate the model\n",
    "print(\"Accuracy (Reweighted Data):\", accuracy_score(y_test_reweighted, pred_reweighted))\n",
    "print(\"Classification Report (Reweighted Data):\")\n",
    "print(classification_report(y_test_reweighted, pred_reweighted))"
   ]
  },
  {
   "cell_type": "markdown",
   "metadata": {},
   "source": [
    "***OBSERVATION:***\n",
    "\n",
    "**After applying bias mitigation algorithms, model fairness increases and accuracy decreases by 2 to 3 % . But the model we get now is still having a good and acceptable accuracy. Now our classification model is Fair and Accurate.**"
   ]
  },
  {
   "cell_type": "code",
   "execution_count": null,
   "metadata": {},
   "outputs": [],
   "source": []
  }
 ],
 "metadata": {
  "kernelspec": {
   "display_name": "Python 3",
   "language": "python",
   "name": "python3"
  },
  "language_info": {
   "codemirror_mode": {
    "name": "ipython",
    "version": 3
   },
   "file_extension": ".py",
   "mimetype": "text/x-python",
   "name": "python",
   "nbconvert_exporter": "python",
   "pygments_lexer": "ipython3",
   "version": "3.12.3"
  }
 },
 "nbformat": 4,
 "nbformat_minor": 2
}
